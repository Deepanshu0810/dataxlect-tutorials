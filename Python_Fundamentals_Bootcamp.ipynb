{
  "nbformat": 4,
  "nbformat_minor": 0,
  "metadata": {
    "colab": {
      "provenance": [],
      "authorship_tag": "ABX9TyMuw6BkOWhqoO0bb8+SGqKY",
      "include_colab_link": true
    },
    "kernelspec": {
      "name": "python3",
      "display_name": "Python 3"
    },
    "language_info": {
      "name": "python"
    }
  },
  "cells": [
    {
      "cell_type": "markdown",
      "metadata": {
        "id": "view-in-github",
        "colab_type": "text"
      },
      "source": [
        "<a href=\"https://colab.research.google.com/github/Deepanshu0810/dataxlect-tutorials/blob/main/Python_Fundamentals_Bootcamp.ipynb\" target=\"_parent\"><img src=\"https://colab.research.google.com/assets/colab-badge.svg\" alt=\"Open In Colab\"/></a>"
      ]
    },
    {
      "cell_type": "markdown",
      "source": [
        "# Installation of Anaconda Environment\n",
        "get the installer for windows <a href=\"https://repo.anaconda.com/archive/Anaconda3-2022.10-Windows-x86_64.exe\">here</a><br>"
      ],
      "metadata": {
        "id": "7i5w2v4Eblfv"
      }
    },
    {
      "cell_type": "markdown",
      "source": [
        "# Python Fundamentals\n",
        "### What is Python\n",
        "Python is an iterpreted programming language, object oriented and dynamicaly types language<br>\n",
        "* Interpreted means the compilation takes place line by line if any line has error the execution stops there<br>\n",
        "* Cross platform means that it can be used in all operating systems, for example if you write a program in windows then the same code can be executed in mac<br>\n",
        "* object oriented programming is a different programming paradigm in which we divide different elements of the program into objects which have a set of properties and functions<br>\n",
        "* dynamically types means that we do not need to assign data types to the variables they are detected automatically\n"
      ],
      "metadata": {
        "id": "KPpJ6EOpS4bS"
      }
    },
    {
      "cell_type": "markdown",
      "source": [
        "<center><h1>Python Data Types</h1>\n",
        "<image src=\"https://media.geeksforgeeks.org/wp-content/uploads/20191023173512/Python-data-structure.jpg\">\n",
        "</center>"
      ],
      "metadata": {
        "id": "hWTPHRj81w_G"
      }
    },
    {
      "cell_type": "code",
      "source": [
        "# use hastags to add comments to your program\n",
        "# comments are useful because it helps the other team members to unerstand you work\n",
        "\n",
        "# creating variables\n",
        "name = \"Deepanshu\"\n",
        "print(type(name)) # the text enclosed in single or double quotes is strings\n",
        "id = 1003 # it is an integer\n",
        "marks = 96.5 # this is a float\n",
        "passed = True # in python booleans are True or False\n",
        "coordinate = 10+20j\n",
        "# the above is a complex no. where j denotes the 'iota'\n",
        "# it should be kept in mind that while declaring a complex number j must be written after imaginary no not before if\n",
        "# for example the below is the wrong declaration\n",
        "# complexNum = 10 + j20\n",
        "# uncomment the above to know that the above declaration is wrong"
      ],
      "metadata": {
        "id": "N-a1xcGZS-eL",
        "colab": {
          "base_uri": "https://localhost:8080/"
        },
        "outputId": "7cc94033-b82b-4081-9b93-d680eb5d3ccd"
      },
      "execution_count": null,
      "outputs": [
        {
          "output_type": "stream",
          "name": "stdout",
          "text": [
            "<class 'str'>\n"
          ]
        }
      ]
    },
    {
      "cell_type": "markdown",
      "source": [
        "Basic Arithmetic operators<br>\n",
        "\n",
        "1. exponent ** a**b (a to the power b\n",
        "2. division /\n",
        "3. multiplication *\n",
        "4. floor division // (it returns the integer quotient)\n",
        "5. remainder % (it returns the remainder)\n",
        "6. addition +\n",
        "7. subtraction -\n"
      ],
      "metadata": {
        "id": "oo8WhfyI9bVr"
      }
    },
    {
      "cell_type": "code",
      "source": [
        "print(5%2)"
      ],
      "metadata": {
        "colab": {
          "base_uri": "https://localhost:8080/"
        },
        "id": "UvzJIEZ9Pt09",
        "outputId": "60200582-cac7-401c-afca-ce3e4cf503b7"
      },
      "execution_count": null,
      "outputs": [
        {
          "output_type": "stream",
          "name": "stdout",
          "text": [
            "1\n"
          ]
        }
      ]
    },
    {
      "cell_type": "markdown",
      "source": [
        "## sequence Data types\n",
        "sequence data types are used when we want to store multiple elements at the same time\n",
        "1. <h2>List</h2>\n",
        "\n",
        "> List is a sequential data type in which we can store multiple elements of different data types and the index of the list goes from 0 to N-1 or (-N to -1)<br>\n",
        "where -1 is the last element and -N is the first element<br>\n",
        "List are <em>mutable</em> and dynamic (we can add as many elements as we want)\n",
        "<center><image src=\"https://media.geeksforgeeks.org/wp-content/uploads/20200710002648/Index-in-Python-1024x508.png\"></center>\n",
        "\n",
        "---\n",
        "2. <h2>Tuple</h2>\n",
        "\n",
        "> Tuples are also a sequential data type and can store elements of different data types but the major difference between the list and tuple is that tuples are not dynamic the elements cannot be added once there are fixed and the elements cannot be changed<br>\n",
        "The indexing is same as that of list<br>\n",
        "They are immutable\n",
        "\n",
        "<center><image src=\"https://favtutor.com/resources/images/uploads/python_list_to_tuple.png\"></ceter>"
      ],
      "metadata": {
        "id": "ONt507JH392n"
      }
    },
    {
      "cell_type": "code",
      "source": [
        "# declaring an empty list\n",
        "list1 = list()\n",
        "list2 = [] \n",
        "\n",
        "# declaring a list\n",
        "list3 = ['Python','Bootcamp','Is','Live']\n",
        "\n",
        "# converting a string into a list\n",
        "list4=list(name)\n",
        "print(list4)"
      ],
      "metadata": {
        "id": "CRldESWS3JS8",
        "colab": {
          "base_uri": "https://localhost:8080/"
        },
        "outputId": "c164af47-9897-453b-d330-d2be36f4f05f"
      },
      "execution_count": null,
      "outputs": [
        {
          "output_type": "stream",
          "name": "stdout",
          "text": [
            "['D', 'e', 'e', 'p', 'a', 'n', 's', 'h', 'u']\n"
          ]
        }
      ]
    },
    {
      "cell_type": "code",
      "source": [
        "# mutability in list\n",
        "list3[0] = 'Python Fundamentals'\n",
        "print(list3)"
      ],
      "metadata": {
        "id": "JEBGCzWO7E-l",
        "colab": {
          "base_uri": "https://localhost:8080/"
        },
        "outputId": "f1fe8a68-3b00-430c-fa02-e7afdf0ac5ed"
      },
      "execution_count": null,
      "outputs": [
        {
          "output_type": "stream",
          "name": "stdout",
          "text": [
            "['Python Fundamentals', 'Bootcamp', 'Is', 'Live']\n"
          ]
        }
      ]
    },
    {
      "cell_type": "code",
      "source": [
        "#@title pop()\n",
        "list4.pop()\n",
        "# builtin function pop() removes the last element of the list and returns it\n",
        "print(list4)"
      ],
      "metadata": {
        "id": "6A2HiWi37iM_",
        "colab": {
          "base_uri": "https://localhost:8080/"
        },
        "outputId": "198b4761-9fd9-4b05-ff21-3bcbe0db4d5b"
      },
      "execution_count": null,
      "outputs": [
        {
          "output_type": "stream",
          "name": "stdout",
          "text": [
            "['D', 'e', 'e', 'p', 'a', 'n', 's', 'h']\n"
          ]
        }
      ]
    },
    {
      "cell_type": "code",
      "source": [
        "list4.append('u')\n",
        "# append(<element>) functions \n",
        "print(list4)"
      ],
      "metadata": {
        "id": "rJXb31JB7swu",
        "colab": {
          "base_uri": "https://localhost:8080/"
        },
        "outputId": "f680a532-cce8-4846-dbe3-24781a5f2c98"
      },
      "execution_count": null,
      "outputs": [
        {
          "output_type": "stream",
          "name": "stdout",
          "text": [
            "['D', 'e', 'e', 'p', 'a', 'n', 's', 'h', 'u']\n"
          ]
        }
      ]
    },
    {
      "cell_type": "code",
      "source": [
        "#@title append() and count()\n",
        "print(list4.count('e'))\n",
        "list5 = ['on','saturday']\n",
        "# what will happen when I do the following\n",
        "list3.append(list5)\n",
        "print(list3)\n",
        "# option 1:['Python Fundamentals', 'Bootcamp', 'Is', 'Live', ['on', 'saturday']]\n",
        "# option 2:['Python Fundamentals', 'Bootcamp', 'Is', 'Live', 'on', 'saturday']"
      ],
      "metadata": {
        "id": "in7Cxdvq79jV",
        "colab": {
          "base_uri": "https://localhost:8080/"
        },
        "outputId": "0638e5cd-e8b0-4954-b019-3379d36808ec"
      },
      "execution_count": null,
      "outputs": [
        {
          "output_type": "stream",
          "name": "stdout",
          "text": [
            "2\n",
            "['Python', 'Bootcamp', 'Is', 'Live', ['on', 'saturday']]\n"
          ]
        }
      ]
    },
    {
      "cell_type": "code",
      "source": [
        "#@title extend()\n",
        "# if we want to combine two lists we use extend function\n",
        "list3.pop()\n",
        "list3.extend(list5)\n",
        "print(list3)\n"
      ],
      "metadata": {
        "id": "8q3mZlqlMVXN",
        "colab": {
          "base_uri": "https://localhost:8080/"
        },
        "outputId": "4c68be1c-3fc5-4656-837a-ebb06dd72fee"
      },
      "execution_count": null,
      "outputs": [
        {
          "output_type": "stream",
          "name": "stdout",
          "text": [
            "['Python', 'Bootcamp', 'Is', 'Live', 'on', 'saturday']\n"
          ]
        }
      ]
    },
    {
      "cell_type": "markdown",
      "source": [
        "## Try out other functions by your self to understand better\n",
        "<a href=\"https://www.w3schools.com/python/python_ref_list.asp\">List Functions</a>"
      ],
      "metadata": {
        "id": "-34FriNkOJ9A"
      }
    },
    {
      "cell_type": "markdown",
      "source": [
        "## String Functions\n",
        "strings are most important in the field of data science because most of the data we encounter is text which is string in python<br>\n",
        "So there some imporatnt string functions\n"
      ],
      "metadata": {
        "id": "A4cdjPj1Onaq"
      }
    },
    {
      "cell_type": "code",
      "source": [
        "sentence = \"a quick Brown fox\"\n",
        "upper_sentence = sentence.upper()\n",
        "lower_sentence = sentence.lower()\n",
        "capitalize_sentence = sentence.capitalize()\n",
        "print(upper_sentence)\n",
        "print(lower_sentence)\n",
        "print(capitalize_sentence)"
      ],
      "metadata": {
        "id": "ixBag5qIN3ra",
        "colab": {
          "base_uri": "https://localhost:8080/"
        },
        "outputId": "e5110dec-7e55-4837-b33c-fa33aa1dd21c"
      },
      "execution_count": null,
      "outputs": [
        {
          "output_type": "stream",
          "name": "stdout",
          "text": [
            "A QUICK BROWN FOX\n",
            "a quick brown fox\n",
            "A quick brown fox\n"
          ]
        }
      ]
    },
    {
      "cell_type": "code",
      "source": [
        "new = \"   my laptop        \"\n",
        "print(new)"
      ],
      "metadata": {
        "id": "sXXFGcgKSyk0",
        "colab": {
          "base_uri": "https://localhost:8080/"
        },
        "outputId": "ba4daf7d-caaa-4d69-bdab-4a8af2e2a384"
      },
      "execution_count": null,
      "outputs": [
        {
          "output_type": "stream",
          "name": "stdout",
          "text": [
            "   my laptop        \n"
          ]
        }
      ]
    },
    {
      "cell_type": "code",
      "source": [
        "no_spaces = new.strip()\n",
        "print(no_spaces)"
      ],
      "metadata": {
        "id": "_2U-tWWxUB21",
        "colab": {
          "base_uri": "https://localhost:8080/"
        },
        "outputId": "db2f31ce-6f1e-4ef3-967d-d22006e19755"
      },
      "execution_count": null,
      "outputs": [
        {
          "output_type": "stream",
          "name": "stdout",
          "text": [
            "my laptop\n"
          ]
        }
      ]
    },
    {
      "cell_type": "code",
      "source": [
        "#you can also use strip function to remove what ever characters you want\n",
        "unclean = \"......$#$ban#ana##.......\"\n",
        "clean = unclean.strip(\".$#\")\n",
        "print(clean)"
      ],
      "metadata": {
        "id": "_HhppdCwUSPc",
        "colab": {
          "base_uri": "https://localhost:8080/"
        },
        "outputId": "9c482bcd-0bbe-40f6-ed7f-02fee398a6ce"
      },
      "execution_count": null,
      "outputs": [
        {
          "output_type": "stream",
          "name": "stdout",
          "text": [
            "ban#ana\n"
          ]
        }
      ]
    },
    {
      "cell_type": "code",
      "source": [
        "# sometimes we need to check whether the string contains number or not\n",
        "num = \"123456\"\n",
        "type(name)"
      ],
      "metadata": {
        "id": "RpunxNGvU2El",
        "colab": {
          "base_uri": "https://localhost:8080/"
        },
        "outputId": "f25a8293-8dee-4dca-e243-41573adde557"
      },
      "execution_count": null,
      "outputs": [
        {
          "output_type": "execute_result",
          "data": {
            "text/plain": [
              "str"
            ]
          },
          "metadata": {},
          "execution_count": 27
        }
      ]
    },
    {
      "cell_type": "code",
      "source": [
        "num.isnumeric()"
      ],
      "metadata": {
        "id": "YdwOb9-reHK9",
        "colab": {
          "base_uri": "https://localhost:8080/"
        },
        "outputId": "aaa39849-6343-486f-9d77-9f41f3fc2150"
      },
      "execution_count": null,
      "outputs": [
        {
          "output_type": "execute_result",
          "data": {
            "text/plain": [
              "True"
            ]
          },
          "metadata": {},
          "execution_count": 28
        }
      ]
    },
    {
      "cell_type": "code",
      "source": [
        "alphabets = \"abcdefg\"\n",
        "alphabets.isalpha()"
      ],
      "metadata": {
        "id": "GPMxRSEDeLQc",
        "colab": {
          "base_uri": "https://localhost:8080/"
        },
        "outputId": "d74b4523-1d3a-4fb7-f9bc-55b0be402347"
      },
      "execution_count": null,
      "outputs": [
        {
          "output_type": "execute_result",
          "data": {
            "text/plain": [
              "True"
            ]
          },
          "metadata": {},
          "execution_count": 31
        }
      ]
    },
    {
      "cell_type": "code",
      "source": [
        "words = capitalize_sentence.split(' ')\n",
        "print(words)"
      ],
      "metadata": {
        "id": "_f8QSK_fefd0",
        "colab": {
          "base_uri": "https://localhost:8080/"
        },
        "outputId": "c6432948-529a-4e6f-de5c-a23b6dc4a504"
      },
      "execution_count": null,
      "outputs": [
        {
          "output_type": "stream",
          "name": "stdout",
          "text": [
            "['A', 'quick', 'brown', 'fox']\n"
          ]
        }
      ]
    },
    {
      "cell_type": "code",
      "source": [
        "# concatination\n",
        "concat_string = \"deepanshu \"+\"anand\"\n",
        "\n",
        "#replicate\n",
        "replicate_string = \"happy \"*10\n",
        "\n",
        "print(concat_string)\n",
        "print(replicate_string)"
      ],
      "metadata": {
        "id": "tpy02SJ_wLX6",
        "colab": {
          "base_uri": "https://localhost:8080/"
        },
        "outputId": "91785a07-2c5e-4f73-fc5f-dfa4ecbe567c"
      },
      "execution_count": null,
      "outputs": [
        {
          "output_type": "stream",
          "name": "stdout",
          "text": [
            "deepanshu anand\n",
            "happy happy happy happy happy happy happy happy happy happy \n"
          ]
        }
      ]
    },
    {
      "cell_type": "markdown",
      "source": [
        "## Practice Work\n",
        "<a href=\"https://www.w3schools.com/python/python_ref_string.asp\">String Functions</a>"
      ],
      "metadata": {
        "id": "L-YHmw8rlQB_"
      }
    },
    {
      "cell_type": "markdown",
      "source": [
        "## Conditional Statements\n",
        "conditional statements are those which execute based on a condition<br>\n",
        "Logical operators are most important for understanding conditional statements<br>\n",
        "1. Equality operator ==\n",
        "2. not equals operator !=\n",
        "3. less than <\n",
        "4. less than equal to <=\n",
        "5. more than >\n",
        "6. more than equal to >=\n",
        "\n",
        "\n"
      ],
      "metadata": {
        "id": "WnFUQsVw0Xsc"
      }
    },
    {
      "cell_type": "code",
      "source": [
        "# conditional always start with the if followed by elif if there are more conditions and at the end else\n",
        "# the most basic code to understand the if-elif-else is\n",
        "\n",
        "# greatest of three numbers\n",
        "a = int(input(\"Enter a: \")) \n",
        "b = int(input(\"Enter b: \")) \n",
        "c = int(input(\"Enter c: \")) \n",
        "\n",
        "if (a>=b):\n",
        "  if (a>=c):\n",
        "    print(a,\"is the greatest\")\n",
        "  else:\n",
        "    print(c,\"is the greatest\")\n",
        "elif (b>=a):\n",
        "  if (b>=c):\n",
        "    print(b,\"is the greatest\")\n",
        "  else:\n",
        "    print(c,\"is the greatest\")\n",
        "elif (c>=a):\n",
        "  if(c>=b):\n",
        "    print(c,\"is the greatest\")\n",
        "  else:\n",
        "    print(b,\"is the greatest\")"
      ],
      "metadata": {
        "id": "WtEJPKXSk7xd",
        "colab": {
          "base_uri": "https://localhost:8080/"
        },
        "outputId": "28f7485d-9e0f-4cb7-d0f2-17abab9f6b68"
      },
      "execution_count": null,
      "outputs": [
        {
          "output_type": "stream",
          "name": "stdout",
          "text": [
            "Enter a: 10\n",
            "Enter b: 15\n",
            "Enter c: 9\n",
            "15 is the greatest\n"
          ]
        }
      ]
    },
    {
      "cell_type": "code",
      "source": [
        "# since it is python we have lots of buit-in functions we can use one here\n",
        "print(max(a,b,c))\n",
        "print(min(a,b,c))"
      ],
      "metadata": {
        "id": "qT4ZRd4S5EX2",
        "colab": {
          "base_uri": "https://localhost:8080/"
        },
        "outputId": "048f5305-b62e-49ea-fd6c-e7bc85e9db0b"
      },
      "execution_count": null,
      "outputs": [
        {
          "output_type": "stream",
          "name": "stdout",
          "text": [
            "15\n",
            "9\n"
          ]
        }
      ]
    },
    {
      "cell_type": "markdown",
      "source": [
        "You can find various programs to impliment if-else in python below<br>\n",
        "<a href=\"https://csiplearninghub.com/python-if-else-conditional-statement-practice/\">if-else problems</a>"
      ],
      "metadata": {
        "id": "1-Xo9qNI5xT3"
      }
    },
    {
      "cell_type": "markdown",
      "source": [
        "## Iterative statements\n",
        "these are the statements which are used to execute statements repeatedly<br>\n",
        "there are two loop statements<br>\n",
        "1. for loop: used when we know how many iterations will be there\n",
        "2. while loop: used when we dont know the no of iterations but only know the end condition"
      ],
      "metadata": {
        "id": "E8K5weiW6cOs"
      }
    },
    {
      "cell_type": "code",
      "source": [
        "# for loop example\n",
        "# 'i' is the control variable which takes different values depending upon the range\n",
        "# 'in' is a membership operator which relates the variable to a list\n",
        "# 'range()' function returns a list depending upon the input arguments\n",
        "# 'range(N)' give a list [0,1,2,3,.....,N-1] \n",
        "# 'range(A,B)' give a list [A,A+1,A+2,...B-1]\n",
        "# 'range(A,B,s)' give a list [A,A+s,A+2s,.....] and B is not inclusive where 's' is the step value\n",
        "\n",
        "for i in range(1,10,2):\n",
        "  print(i)\n",
        "\n",
        "# for j in list3:\n",
        "#   print(j,end=\" \")"
      ],
      "metadata": {
        "id": "B1UCGkFh5KxF",
        "colab": {
          "base_uri": "https://localhost:8080/"
        },
        "outputId": "15ffe9fe-6633-48ef-e145-5ed535f9485b"
      },
      "execution_count": null,
      "outputs": [
        {
          "output_type": "stream",
          "name": "stdout",
          "text": [
            "1\n",
            "3\n",
            "5\n",
            "7\n",
            "9\n"
          ]
        }
      ]
    },
    {
      "cell_type": "code",
      "source": [
        "# while loop \n",
        "\n",
        "d=444\n",
        "while (d!=0):\n",
        "  print(d)\n",
        "  d = d//10 "
      ],
      "metadata": {
        "id": "ybfo4a9Y8bdv",
        "colab": {
          "base_uri": "https://localhost:8080/"
        },
        "outputId": "308870b1-be3e-4d86-da45-a420e63697d8"
      },
      "execution_count": null,
      "outputs": [
        {
          "output_type": "stream",
          "name": "stdout",
          "text": [
            "444\n",
            "44\n",
            "4\n"
          ]
        }
      ]
    },
    {
      "cell_type": "code",
      "source": [
        "# important statements \n",
        "# 'break' when it is encountered the loop stops iterating and the comes out of the block of loop\n",
        "# 'continue' it skips the further statements and go to the next iteration\n",
        "\n",
        "# example \n",
        "while(True):\n",
        "  print(\"1 to print 'Hello world'\")\n",
        "  print(\"2 to print 'Bye' and exit\")\n",
        "  print(\"3 to continue\")\n",
        "  ch = int(input())\n",
        "  if (ch==1):\n",
        "    print('hello world')\n",
        "  elif (ch==2):\n",
        "    print('Bye')\n",
        "    break\n",
        "  elif (ch==3):\n",
        "    continue\n",
        "    print('continue')\n",
        "  else:\n",
        "    print(\"you entered wrong choice\")"
      ],
      "metadata": {
        "id": "ApzSu05U-kZo",
        "colab": {
          "base_uri": "https://localhost:8080/"
        },
        "outputId": "98747833-1d3f-4517-ed7c-3c20520cafae"
      },
      "execution_count": null,
      "outputs": [
        {
          "output_type": "stream",
          "name": "stdout",
          "text": [
            "1 to print 'Hello world'\n",
            "2 to print 'Bye' and exit\n",
            "3 to continue\n",
            "1\n",
            "hello world\n",
            "1 to print 'Hello world'\n",
            "2 to print 'Bye' and exit\n",
            "3 to continue\n",
            "3\n",
            "1 to print 'Hello world'\n",
            "2 to print 'Bye' and exit\n",
            "3 to continue\n",
            "2\n",
            "Bye\n"
          ]
        }
      ]
    },
    {
      "cell_type": "markdown",
      "source": [
        "# Practice Problems\n",
        "1. W.A.P to write all prime no. between 1 to 20\n",
        "2. W.A.P to identify a leap year take input from user (check for 1300 and 2100)\n",
        "3. W.A.P to check palindrome no.\n",
        "4. W.A.P to identify armstrong no.\n",
        "5. W.A.P to find the sum of the given series: 1^1 + 2^2 + 3^3 + ... + n^n (take value of n from user)\n",
        "6. W.A.P to print the following series<br>\n",
        "<p>*<br>**<br>***<br>****</p>\n",
        "7. W.A.P to print the following series<br>\n",
        "<p>1<br>22<br>333<br>4444<br>55555</p>\n",
        "8. W.A.P to print the following series<br>\n",
        "<p>1<br>2 3<br>4 5 6<br>7 8 9 10</p>"
      ],
      "metadata": {
        "id": "bIskCrIwoLqU"
      }
    },
    {
      "cell_type": "markdown",
      "source": [
        "## Disctionaries\n",
        "Disctionaries are used to store ordered data in a key:value pair<br>\n",
        "in a disctionary, keys are always unique and should be of immutable type<br>\n"
      ],
      "metadata": {
        "id": "nkIvtvg7qdLx"
      }
    },
    {
      "cell_type": "code",
      "source": [
        "# declaring an empty dictionary\n",
        "dict1 = dict()\n",
        "dict2 = {}\n",
        "\n",
        "\n",
        "# declaring a dictionary \n",
        "dict3 = {'name':'deepanshu','class':12,'stream':'non-medical'}\n",
        "dict3['marks'] = 96\n",
        "print(dict3.keys())\n",
        "print(dict3.values())\n",
        "for key in dict3.keys():\n",
        "  print(key,\":\",dict3[key]) #list1[0] dict1[key]"
      ],
      "metadata": {
        "id": "sjlAWpSa__hg",
        "colab": {
          "base_uri": "https://localhost:8080/"
        },
        "outputId": "039c0443-b2c2-4fcb-9fe3-8417d7536341"
      },
      "execution_count": null,
      "outputs": [
        {
          "output_type": "stream",
          "name": "stdout",
          "text": [
            "dict_keys(['name', 'class', 'stream', 'marks'])\n",
            "dict_values(['deepanshu', 12, 'non-medical', 96])\n",
            "name : deepanshu\n",
            "class : 12\n",
            "stream : non-medical\n",
            "marks : 96\n"
          ]
        }
      ]
    },
    {
      "cell_type": "code",
      "source": [
        "# task\n",
        "cars = [{'name':'mustang','color':'black','year':1968},{'name':'skyline','color':'blue','year':1998},{'name':'supra','color':'white','year':1998},{'name':'dodge','color':'black','year':1970}]\n",
        "for k in cars:\n",
        "  for key in k.keys():\n",
        "    print(key,\":\",k[key])\n",
        "  print(\"-\"*10)"
      ],
      "metadata": {
        "id": "syzldO5rtA8S",
        "colab": {
          "base_uri": "https://localhost:8080/"
        },
        "outputId": "94bfe262-1530-40cf-e6bf-23f188a66b30"
      },
      "execution_count": null,
      "outputs": [
        {
          "output_type": "stream",
          "name": "stdout",
          "text": [
            "name : mustang\n",
            "color : black\n",
            "year : 1968\n",
            "----------\n",
            "name : skyline\n",
            "color : blue\n",
            "year : 1998\n",
            "----------\n",
            "name : supra\n",
            "color : white\n",
            "year : 1998\n",
            "----------\n",
            "name : dodge\n",
            "color : black\n",
            "year : 1970\n",
            "----------\n"
          ]
        }
      ]
    },
    {
      "cell_type": "code",
      "source": [],
      "metadata": {
        "id": "EeQ0L96-vVId"
      },
      "execution_count": null,
      "outputs": []
    }
  ]
}